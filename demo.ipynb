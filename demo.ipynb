{
  "cells": [
    {
      "cell_type": "markdown",
      "metadata": {
        "id": "view-in-github",
        "colab_type": "text"
      },
      "source": [
        "<a href=\"https://colab.research.google.com/github/20091g059/AutomatedTestGeneration/blob/main/demo.ipynb\" target=\"_parent\"><img src=\"https://colab.research.google.com/assets/colab-badge.svg\" alt=\"Open In Colab\"/></a>"
      ]
    },
    {
      "cell_type": "markdown",
      "metadata": {
        "id": "AQgXa5B19HJo"
      },
      "source": [
        "Code cells show code input and output:"
      ]
    },
    {
      "cell_type": "code",
      "execution_count": 1,
      "metadata": {
        "colab": {
          "base_uri": "https://localhost:8080/"
        },
        "id": "O4r52_Wi9HJp",
        "outputId": "09dd269c-357f-495b-ab4e-f1af80862c19"
      },
      "outputs": [
        {
          "output_type": "execute_result",
          "data": {
            "text/plain": [
              "3"
            ]
          },
          "metadata": {},
          "execution_count": 1
        }
      ],
      "source": [
        "1 + 3"
      ]
    },
    {
      "cell_type": "markdown",
      "metadata": {
        "id": "xxAQlP4C9HJq"
      },
      "source": [
        "Cells can contain text and latex equations such as $f(x) = \\sin(2\\pi\\omega t^2)$ and $\\omega=220\\,$Hz. We can use code to define the corresponding functions:"
      ]
    },
    {
      "cell_type": "code",
      "execution_count": null,
      "metadata": {
        "id": "Cf8Sl32P9HJq"
      },
      "outputs": [],
      "source": [
        "import numpy as np\n",
        "def f(t):\n",
        "    omega = 220\n",
        "    return np.sin(2 * np.pi * omega * t**2)"
      ]
    },
    {
      "cell_type": "markdown",
      "metadata": {
        "id": "_vvyPZ8N9HJq"
      },
      "source": [
        "Let's compute the data and plot the beginning of it:"
      ]
    },
    {
      "cell_type": "code",
      "execution_count": null,
      "metadata": {
        "id": "WTzHWM9U9HJq"
      },
      "outputs": [],
      "source": [
        "t = np.linspace(0, 2, 44100)\n",
        "y = f(t)\n",
        "\n",
        "## Show plots inside the notebook as svg\n",
        "%config InlineBackend.figure_formats = ['svg']\n",
        "import pylab\n",
        "\n",
        "pylab.plot(t[0:5000], y[0:5000]);"
      ]
    },
    {
      "cell_type": "markdown",
      "metadata": {
        "id": "sOeRcOCZ9HJr"
      },
      "source": [
        "We can integrate media: images, videos, interactive elements and sound:"
      ]
    },
    {
      "cell_type": "code",
      "execution_count": null,
      "metadata": {
        "id": "qOntKETg9HJr"
      },
      "outputs": [],
      "source": [
        "from IPython.display import Audio\n",
        "Audio(y, rate=44100)    # plays the data in y as audible signal"
      ]
    },
    {
      "cell_type": "markdown",
      "metadata": {
        "id": "7MgP8lEW9HJr"
      },
      "source": [
        "We can connect other languages and tools, for example execution in bash:"
      ]
    },
    {
      "cell_type": "code",
      "execution_count": null,
      "metadata": {
        "id": "KcWNk0F_9HJr"
      },
      "outputs": [],
      "source": [
        "%%bash\n",
        "echo \"Some shell command, run at `date`\""
      ]
    },
    {
      "cell_type": "markdown",
      "metadata": {
        "collapsed": true,
        "id": "UUGwpK8U9HJr"
      },
      "source": [
        "Can also fetch images from disk or the Internet, for example from European XFEL"
      ]
    },
    {
      "cell_type": "code",
      "execution_count": null,
      "metadata": {
        "id": "gOw9__Dn9HJr"
      },
      "outputs": [],
      "source": [
        "from IPython.display import Image\n",
        "Image(\"https://www.xfel.eu/sites/sites_custom/site_xfel/content/e35165/e58712/e58715/AbstimmungCompo3_eng.png\")"
      ]
    },
    {
      "cell_type": "code",
      "execution_count": null,
      "metadata": {
        "id": "5iR-JxRd9HJr"
      },
      "outputs": [],
      "source": []
    }
  ],
  "metadata": {
    "anaconda-cloud": {},
    "kernelspec": {
      "display_name": "Python 3",
      "language": "python",
      "name": "python3"
    },
    "language_info": {
      "codemirror_mode": {
        "name": "ipython",
        "version": 3
      },
      "file_extension": ".py",
      "mimetype": "text/x-python",
      "name": "python",
      "nbconvert_exporter": "python",
      "pygments_lexer": "ipython3",
      "version": "3.8.3"
    },
    "colab": {
      "provenance": [],
      "include_colab_link": true
    }
  },
  "nbformat": 4,
  "nbformat_minor": 0
}